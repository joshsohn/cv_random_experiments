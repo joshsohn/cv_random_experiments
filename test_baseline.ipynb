{
 "cells": [
  {
   "cell_type": "code",
   "execution_count": 1,
   "metadata": {},
   "outputs": [
    {
     "name": "stderr",
     "output_type": "stream",
     "text": [
      "/home/raphaelpeabody/.local/lib/python3.11/site-packages/matplotlib/projections/__init__.py:63: UserWarning: Unable to import Axes3D. This may be due to multiple versions of Matplotlib being installed (e.g. as a system package and as a pip package). As a result, the 3D projection is not available.\n",
      "  warnings.warn(\"Unable to import Axes3D. This may be due to multiple versions of \"\n",
      "2024-05-13 16:59:47.028444: I tensorflow/core/util/port.cc:113] oneDNN custom operations are on. You may see slightly different numerical results due to floating-point round-off errors from different computation orders. To turn them off, set the environment variable `TF_ENABLE_ONEDNN_OPTS=0`.\n",
      "2024-05-13 16:59:47.217667: I tensorflow/core/platform/cpu_feature_guard.cc:210] This TensorFlow binary is optimized to use available CPU instructions in performance-critical operations.\n",
      "To enable the following instructions: AVX2 AVX512F AVX512_VNNI FMA, in other operations, rebuild TensorFlow with the appropriate compiler flags.\n",
      "2024-05-13 16:59:47.969060: W tensorflow/compiler/tf2tensorrt/utils/py_utils.cc:38] TF-TRT Warning: Could not find TensorRT\n"
     ]
    }
   ],
   "source": [
    "import numpy as np\n",
    "import pandas as pd\n",
    "import os\n",
    "import matplotlib.pyplot as plt\n",
    "import seaborn as sns\n",
    "from tqdm.notebook import tqdm\n",
    "# import warnings\n",
    "# warnings.filterwarnings('ignore')\n",
    "# %matplotlib inline\n",
    "\n",
    "import cv2\n",
    "import tensorflow as tf\n",
    "from keras.preprocessing.image import load_img\n",
    "from keras.models import Sequential, Model\n",
    "from keras.layers import Dense, Conv2D, Dropout, Flatten, MaxPooling2D, Input"
   ]
  },
  {
   "cell_type": "code",
   "execution_count": 2,
   "metadata": {},
   "outputs": [],
   "source": [
    "data = \"/home/raphaelpeabody/Downloads/UTKFace\""
   ]
  },
  {
   "cell_type": "code",
   "execution_count": 3,
   "metadata": {},
   "outputs": [
    {
     "data": {
      "application/vnd.jupyter.widget-view+json": {
       "model_id": "9cef78e3c36b467cbaf83ec6a4c03fdf",
       "version_major": 2,
       "version_minor": 0
      },
      "text/plain": [
       "  0%|          | 0/23709 [00:00<?, ?it/s]"
      ]
     },
     "metadata": {},
     "output_type": "display_data"
    },
    {
     "name": "stdout",
     "output_type": "stream",
     "text": [
      "Skipping file: rename.bash\n",
      "Skipping file: 39_1_20170116174525125.jpg\n",
      "Skipping file: 61_1_20170109150557335.jpg\n",
      "Skipping file: 61_1_20170109142408075.jpg\n"
     ]
    }
   ],
   "source": [
    "image_paths = []\n",
    "age_labels = []\n",
    "gender_labels = []\n",
    "race_labels = []\n",
    "\n",
    "for filename in tqdm(os.listdir(data)):\n",
    "    image_path = os.path.join(data, filename)\n",
    "    try:\n",
    "        temp = filename.split('_')\n",
    "        age = int(temp[0])\n",
    "        gender = int(temp[1])\n",
    "        race = int(temp[2])\n",
    "    except ValueError:\n",
    "        print(\"Skipping file:\", filename)\n",
    "        continue\n",
    "    image_paths.append(image_path)\n",
    "    age_labels.append(age)\n",
    "    gender_labels.append(gender)\n",
    "    race_labels.append(race)\n",
    "\n"
   ]
  },
  {
   "cell_type": "code",
   "execution_count": 4,
   "metadata": {},
   "outputs": [
    {
     "data": {
      "text/html": [
       "<div>\n",
       "<style scoped>\n",
       "    .dataframe tbody tr th:only-of-type {\n",
       "        vertical-align: middle;\n",
       "    }\n",
       "\n",
       "    .dataframe tbody tr th {\n",
       "        vertical-align: top;\n",
       "    }\n",
       "\n",
       "    .dataframe thead th {\n",
       "        text-align: right;\n",
       "    }\n",
       "</style>\n",
       "<table border=\"1\" class=\"dataframe\">\n",
       "  <thead>\n",
       "    <tr style=\"text-align: right;\">\n",
       "      <th></th>\n",
       "      <th>image</th>\n",
       "      <th>age</th>\n",
       "      <th>gender</th>\n",
       "      <th>race</th>\n",
       "    </tr>\n",
       "  </thead>\n",
       "  <tbody>\n",
       "    <tr>\n",
       "      <th>0</th>\n",
       "      <td>/home/raphaelpeabody/Downloads/UTKFace/7_1_4_2...</td>\n",
       "      <td>7</td>\n",
       "      <td>1</td>\n",
       "      <td>4</td>\n",
       "    </tr>\n",
       "    <tr>\n",
       "      <th>1</th>\n",
       "      <td>/home/raphaelpeabody/Downloads/UTKFace/26_1_0_...</td>\n",
       "      <td>26</td>\n",
       "      <td>1</td>\n",
       "      <td>0</td>\n",
       "    </tr>\n",
       "    <tr>\n",
       "      <th>2</th>\n",
       "      <td>/home/raphaelpeabody/Downloads/UTKFace/18_1_0_...</td>\n",
       "      <td>18</td>\n",
       "      <td>1</td>\n",
       "      <td>0</td>\n",
       "    </tr>\n",
       "    <tr>\n",
       "      <th>3</th>\n",
       "      <td>/home/raphaelpeabody/Downloads/UTKFace/22_1_3_...</td>\n",
       "      <td>22</td>\n",
       "      <td>1</td>\n",
       "      <td>3</td>\n",
       "    </tr>\n",
       "    <tr>\n",
       "      <th>4</th>\n",
       "      <td>/home/raphaelpeabody/Downloads/UTKFace/28_1_0_...</td>\n",
       "      <td>28</td>\n",
       "      <td>1</td>\n",
       "      <td>0</td>\n",
       "    </tr>\n",
       "  </tbody>\n",
       "</table>\n",
       "</div>"
      ],
      "text/plain": [
       "                                               image  age  gender  race\n",
       "0  /home/raphaelpeabody/Downloads/UTKFace/7_1_4_2...    7       1     4\n",
       "1  /home/raphaelpeabody/Downloads/UTKFace/26_1_0_...   26       1     0\n",
       "2  /home/raphaelpeabody/Downloads/UTKFace/18_1_0_...   18       1     0\n",
       "3  /home/raphaelpeabody/Downloads/UTKFace/22_1_3_...   22       1     3\n",
       "4  /home/raphaelpeabody/Downloads/UTKFace/28_1_0_...   28       1     0"
      ]
     },
     "execution_count": 4,
     "metadata": {},
     "output_type": "execute_result"
    }
   ],
   "source": [
    "df = pd.DataFrame()\n",
    "df['image'], df['age'], df['gender'], df['race'] = image_paths, age_labels, gender_labels, race_labels\n",
    "df.head()"
   ]
  },
  {
   "cell_type": "code",
   "execution_count": 5,
   "metadata": {},
   "outputs": [],
   "source": [
    "gender_dict = {0:'Male', 1:'Female'}\n",
    "race_dict = {0:'White', 1:'Black', 2:'Asian', 3:'Indian', 4:'Other'}"
   ]
  },
  {
   "cell_type": "markdown",
   "metadata": {},
   "source": [
    "## feature extraction"
   ]
  },
  {
   "cell_type": "code",
   "execution_count": 6,
   "metadata": {},
   "outputs": [],
   "source": [
    "X = np.load('X.npy')"
   ]
  },
  {
   "cell_type": "markdown",
   "metadata": {},
   "source": [
    "## model setup"
   ]
  },
  {
   "cell_type": "code",
   "execution_count": 7,
   "metadata": {},
   "outputs": [],
   "source": [
    "y_gender = np.array(df['gender'])\n",
    "y_age = np.array(df['age'])\n",
    "y_race = np.array(df['race'])"
   ]
  },
  {
   "cell_type": "code",
   "execution_count": 8,
   "metadata": {},
   "outputs": [
    {
     "name": "stdout",
     "output_type": "stream",
     "text": [
      "10078\n",
      "10078\n",
      "10078\n",
      "Race: White\n",
      "Number of samples: 10078\n",
      "4526\n",
      "4526\n",
      "4526\n",
      "Race: Black\n",
      "Number of samples: 4526\n",
      "3434\n",
      "3434\n",
      "3434\n",
      "Race: Asian\n",
      "Number of samples: 3434\n",
      "3975\n",
      "3975\n",
      "3975\n",
      "Race: Indian\n",
      "Number of samples: 3975\n",
      "1692\n",
      "1692\n",
      "1692\n",
      "Race: Other\n",
      "Number of samples: 1692\n"
     ]
    }
   ],
   "source": [
    "from sklearn.model_selection import train_test_split\n",
    "\n",
    "# Dictionary to store datasets for each race\n",
    "datasets_per_race = {}\n",
    "\n",
    "# Split the dataset based on race\n",
    "unique_races = np.unique(y_race)\n",
    "for race in race_dict:\n",
    "    race_indices = np.where(y_race == race)[0]\n",
    "    X_race = X[race_indices]\n",
    "    y_age_race = y_age[race_indices]\n",
    "    y_gender_race = y_gender[race_indices]\n",
    "    print(len(X_race))\n",
    "    print(len(y_age_race))\n",
    "    print(len(y_gender_race))\n",
    "    # Split the race dataset into train and test sets\n",
    "    # X_train, X_test, y_train, y_test = train_test_split(X_race, y_age_race, test_size=0.2, random_state=42)\n",
    "\n",
    "    print(f\"Race: {race_dict[race]}\")\n",
    "    print(f\"Number of samples: {len(X_race)}\")\n",
    "\n",
    "    # # Plot the age distribution for each race\n",
    "    # plt.figure()\n",
    "    # plt.hist(y_age_race, bins=20, edgecolor='black')\n",
    "    # plt.title(f\"Age Distribution for {race_dict[race]}\")\n",
    "    # plt.xlabel(\"Age\")\n",
    "    # plt.ylabel(\"Frequency\")\n",
    "    # plt.show()\n",
    "\n",
    "    datasets_per_race[race_dict[race]] = {'X': X_race, 'y': y_age_race, 'gender': y_gender_race}"
   ]
  },
  {
   "cell_type": "code",
   "execution_count": 9,
   "metadata": {},
   "outputs": [
    {
     "name": "stderr",
     "output_type": "stream",
     "text": [
      "2024-05-13 16:59:52.830374: I external/local_xla/xla/stream_executor/cuda/cuda_executor.cc:998] successful NUMA node read from SysFS had negative value (-1), but there must be at least one NUMA node, so returning NUMA node zero. See more at https://github.com/torvalds/linux/blob/v6.0/Documentation/ABI/testing/sysfs-bus-pci#L344-L355\n",
      "2024-05-13 16:59:52.913318: W tensorflow/core/common_runtime/gpu/gpu_device.cc:2251] Cannot dlopen some GPU libraries. Please make sure the missing libraries mentioned above are installed properly if you would like to use GPU. Follow the guide at https://www.tensorflow.org/install/gpu for how to download and setup the required libraries for your platform.\n",
      "Skipping registering GPU devices...\n",
      "WARNING:absl:Compiled the loaded model, but the compiled metrics have yet to be built. `model.compile_metrics` will be empty until you train or evaluate the model.\n"
     ]
    }
   ],
   "source": [
    "from tensorflow.keras.models import load_model\n",
    "\n",
    "def mae(y_true, y_pred):\n",
    "    return tf.keras.losses.mean_absolute_error(y_true, y_pred)\n",
    "\n",
    "model = load_model('baseline_only_age.h5', custom_objects={'mae': mae})"
   ]
  },
  {
   "cell_type": "code",
   "execution_count": 10,
   "metadata": {},
   "outputs": [
    {
     "name": "stdout",
     "output_type": "stream",
     "text": [
      "\u001b[1m315/315\u001b[0m \u001b[32m━━━━━━━━━━━━━━━━━━━━\u001b[0m\u001b[37m\u001b[0m \u001b[1m7s\u001b[0m 22ms/step\n",
      "\u001b[1m142/142\u001b[0m \u001b[32m━━━━━━━━━━━━━━━━━━━━\u001b[0m\u001b[37m\u001b[0m \u001b[1m3s\u001b[0m 21ms/step\n",
      "\u001b[1m108/108\u001b[0m \u001b[32m━━━━━━━━━━━━━━━━━━━━\u001b[0m\u001b[37m\u001b[0m \u001b[1m2s\u001b[0m 22ms/step\n",
      "\u001b[1m125/125\u001b[0m \u001b[32m━━━━━━━━━━━━━━━━━━━━\u001b[0m\u001b[37m\u001b[0m \u001b[1m3s\u001b[0m 21ms/step\n",
      "\u001b[1m53/53\u001b[0m \u001b[32m━━━━━━━━━━━━━━━━━━━━\u001b[0m\u001b[37m\u001b[0m \u001b[1m1s\u001b[0m 23ms/step\n",
      "MAE for White: 6.06910798070118\n",
      "MAE for Black: 5.447349998785551\n",
      "MAE for Asian: 4.3114919540628005\n",
      "MAE for Indian: 5.153878524048523\n",
      "MAE for Other: 4.319950058105144\n"
     ]
    }
   ],
   "source": [
    "from sklearn.metrics import mean_absolute_error\n",
    "from scipy import stats\n",
    "\n",
    "# Calculate MAE for each race dataset using the original model\n",
    "mae_per_race_dataset = {}\n",
    "for race, data in datasets_per_race.items():\n",
    "    X_test_race = data['X']\n",
    "    y_test_race = data['y']\n",
    "\n",
    "    # Predict age using the original model\n",
    "    y_pred_race = model.predict(X_test_race)\n",
    "\n",
    "    # Calculate MAE\n",
    "    mae_race = mean_absolute_error(y_test_race, y_pred_race)\n",
    "    mae_per_race_dataset[race] = mae_race\n",
    "\n",
    "# Print MAE for each race dataset\n",
    "for race, mae in mae_per_race_dataset.items():\n",
    "    print(f\"MAE for {race}: {mae}\")"
   ]
  },
  {
   "cell_type": "code",
   "execution_count": 12,
   "metadata": {},
   "outputs": [
    {
     "name": "stdout",
     "output_type": "stream",
     "text": [
      "Race: Male\n",
      "Number of samples: 12391\n",
      "Race: Female\n",
      "Number of samples: 11314\n"
     ]
    }
   ],
   "source": [
    "# Dictionary to store datasets for each race\n",
    "datasets_per_gender = {}\n",
    "\n",
    "# Split the dataset based on race\n",
    "unique_genders = np.unique(y_gender)\n",
    "for gender in gender_dict:\n",
    "    gender_indices = np.where(y_gender == gender)[0]\n",
    "    X_gender = X[gender_indices]\n",
    "    y_age_gender = y_age[gender_indices]\n",
    "    y_gender_gender = y_gender[gender_indices]\n",
    "    # print(len(X_race))\n",
    "    # print(len(y_age_race))\n",
    "    # print(len(y_gender_race))\n",
    "    # Split the race dataset into train and test sets\n",
    "    # X_train, X_test, y_train, y_test = train_test_split(X_race, y_age_race, test_size=0.2, random_state=42)\n",
    "\n",
    "    print(f\"Race: {gender_dict[gender]}\")\n",
    "    print(f\"Number of samples: {len(X_gender)}\")\n",
    "\n",
    "    # # Plot the age distribution for each race\n",
    "    # plt.figure()\n",
    "    # plt.hist(y_age_gender, bins=20, edgecolor='black')\n",
    "    # plt.title(f\"Age Distribution for {gender_dict[gender]}\")\n",
    "    # plt.xlabel(\"Age\")\n",
    "    # plt.ylabel(\"Frequency\")\n",
    "    # plt.show()\n",
    "\n",
    "\n",
    "    datasets_per_gender[gender_dict[gender]] = {'X': X_gender, 'y': y_age_gender, 'gender': y_gender_gender}"
   ]
  },
  {
   "cell_type": "code",
   "execution_count": 13,
   "metadata": {},
   "outputs": [
    {
     "name": "stdout",
     "output_type": "stream",
     "text": [
      "\u001b[1m388/388\u001b[0m \u001b[32m━━━━━━━━━━━━━━━━━━━━\u001b[0m\u001b[37m\u001b[0m \u001b[1m9s\u001b[0m 24ms/step\n",
      "\u001b[1m354/354\u001b[0m \u001b[32m━━━━━━━━━━━━━━━━━━━━\u001b[0m\u001b[37m\u001b[0m \u001b[1m8s\u001b[0m 23ms/step\n",
      "MAE for Male: 5.6296093025196745\n",
      "MAE for Female: 5.185113439822083\n"
     ]
    },
    {
     "ename": "",
     "evalue": "",
     "output_type": "error",
     "traceback": [
      "\u001b[1;31mThe Kernel crashed while executing code in the current cell or a previous cell. \n",
      "\u001b[1;31mPlease review the code in the cell(s) to identify a possible cause of the failure. \n",
      "\u001b[1;31mClick <a href='https://aka.ms/vscodeJupyterKernelCrash'>here</a> for more info. \n",
      "\u001b[1;31mView Jupyter <a href='command:jupyter.viewOutput'>log</a> for further details."
     ]
    }
   ],
   "source": [
    "# Calculate MAE for each race dataset using the original model\n",
    "mae_per_gender_dataset = {}\n",
    "for gender, data in datasets_per_gender.items():\n",
    "    X_test_gender = data['X']\n",
    "    y_test_gender = data['y']\n",
    "\n",
    "    # Predict age using the original model\n",
    "    y_pred_gender = model.predict(X_test_gender)\n",
    "\n",
    "    # Calculate MAE\n",
    "    mae_gender = mean_absolute_error(y_test_gender, y_pred_gender)\n",
    "    mae_per_gender_dataset[gender] = mae_gender\n",
    "\n",
    "# Print MAE for each race dataset\n",
    "for gender, mae in mae_per_gender_dataset.items():\n",
    "    print(f\"MAE for {gender}: {mae}\")"
   ]
  }
 ],
 "metadata": {
  "kernelspec": {
   "display_name": "Python 3",
   "language": "python",
   "name": "python3"
  },
  "language_info": {
   "codemirror_mode": {
    "name": "ipython",
    "version": 3
   },
   "file_extension": ".py",
   "mimetype": "text/x-python",
   "name": "python",
   "nbconvert_exporter": "python",
   "pygments_lexer": "ipython3",
   "version": "3.11.9"
  }
 },
 "nbformat": 4,
 "nbformat_minor": 2
}
